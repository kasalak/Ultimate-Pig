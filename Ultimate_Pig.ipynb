{
 "cells": [
  {
   "cell_type": "code",
   "execution_count": 18,
   "metadata": {
    "collapsed": true
   },
   "outputs": [],
   "source": [
    "import statistics as st\n",
    "import matplotlib.pyplot as plt\n",
    "import random\n",
    "import math\n",
    "%matplotlib inline"
   ]
  },
  {
   "cell_type": "code",
   "execution_count": 19,
   "metadata": {
    "collapsed": true
   },
   "outputs": [],
   "source": [
    "def roll_die():\n",
    "    return random.randint(1,6)\n",
    "\n",
    "\n",
    "class Player:\n",
    "    \"\"\"\n",
    "    Responsibilities:\n",
    "    Keep track of score and number of rolls\n",
    "    Determine if player should roll again based on current state\n",
    "    Run through a complete turn\n",
    "    - \n",
    "    \"\"\"\n",
    "    \n",
    "    def __init__(self):\n",
    "        self.points = 0\n",
    "        self.reset()\n",
    "    \n",
    "    def reset(self):\n",
    "        self.points = 0\n",
    "        self.rolls = 0\n",
    "    \n",
    "    def should_roll_again(self):\n",
    "        \"\"\"\n",
    "        Returns True if the Player should roll again, False otherwise\n",
    "        This method should probably be overridden with subclasses to do more complex stuff!\n",
    "        \"\"\"\n",
    "        return False\n",
    "    \n",
    "    def play_turn(self):\n",
    "        self.reset()\n",
    "        \n",
    "        while True:\n",
    "            roll = roll_die()\n",
    "            self.rolls += 1\n",
    "            if roll == 1:\n",
    "                self.points += 0\n",
    "                return 0\n",
    "            else:\n",
    "                self.points += roll\n",
    "            if not self.should_roll_again():\n",
    "                break\n",
    "        \n",
    "        return self.points"
   ]
  },
  {
   "cell_type": "code",
   "execution_count": 20,
   "metadata": {
    "collapsed": true
   },
   "outputs": [],
   "source": [
    "class PigSolitaireGame:\n",
    "    def __init__(self, player):\n",
    "        self.player = player\n",
    "    \n",
    "    def play_game(self):\n",
    "        total_points = 0\n",
    "        for _ in range(7):\n",
    "            total_points += self.player.play_turn()\n",
    "        \n",
    "        return total_points"
   ]
  },
  {
   "cell_type": "code",
   "execution_count": 21,
   "metadata": {
    "collapsed": true
   },
   "outputs": [],
   "source": [
    "class BasePlayer(Player):\n",
    "    # You only need to roll once\n",
    "    def should_roll_again(self):\n",
    "        if self.rolls < 2:\n",
    "            return True\n",
    "        else:\n",
    "            return False"
   ]
  },
  {
   "cell_type": "code",
   "execution_count": 22,
   "metadata": {
    "collapsed": false
   },
   "outputs": [],
   "source": [
    "class AggressivePlayer(Player):\n",
    "    #roll three times every round\n",
    "    def should_roll_again(self):\n",
    "        if self.rolls < 4:\n",
    "            return True\n",
    "        else:\n",
    "            return False"
   ]
  },
  {
   "cell_type": "code",
   "execution_count": 23,
   "metadata": {
    "collapsed": true
   },
   "outputs": [],
   "source": [
    "class CautiousPlayer(Player):\n",
    "    #roll two times every round\n",
    "    def should_roll_again(self):\n",
    "        if self.rolls < 3:\n",
    "            return True\n",
    "        else:\n",
    "            return False"
   ]
  },
  {
   "cell_type": "code",
   "execution_count": 24,
   "metadata": {
    "collapsed": false
   },
   "outputs": [],
   "source": [
    "class NoHoldsBarredPlayer(Player):\n",
    "    #roll twenty times per round\n",
    "    def should_roll_again(self):\n",
    "        if self.rolls < 21:\n",
    "            return True\n",
    "        else:\n",
    "            return False"
   ]
  },
  {
   "cell_type": "code",
   "execution_count": 25,
   "metadata": {
    "collapsed": false
   },
   "outputs": [],
   "source": [
    "hanz = PigSolitaireGame(BasePlayer())\n",
    "franz = PigSolitaireGame(AggressivePlayer())\n",
    "yortuk = PigSolitaireGame(CautiousPlayer())\n",
    "georg = PigSolitaireGame(NoHoldsBarredPlayer())\n",
    "\n",
    "base_data = []\n",
    "aggressive_data = []\n",
    "cautious_data = []\n",
    "no_holds_data = []\n",
    "\n",
    "for x in range(10000):\n",
    "    base_data.append(hanz.play_game())\n",
    "    aggressive_data.append(franz.play_game())\n",
    "    cautious_data.append(yortuk.play_game())\n",
    "    no_holds_data.append(georg.play_game())"
   ]
  },
  {
   "cell_type": "code",
   "execution_count": 26,
   "metadata": {
    "collapsed": false
   },
   "outputs": [
    {
     "data": {
      "image/png": "[encoded data removed]",
      "text/plain": [
       "<matplotlib.figure.Figure at 0x10e45d080>"
      ]
     },
     "metadata": {},
     "output_type": "display_data"
    }
   ],
   "source": [
    "plt.hist(base_data, bins = 100)\n",
    "plt.title(\"Results of 1000 games where Hanz rolls once per turn.\")\n",
    "plt.xlabel(\"The mean of Hanz' final scores is {}.\".format(st.mean(base_data)))\n",
    "plt.vlines(st.mean(base_data), ymin=0, ymax = 600, color='red', linestyle='solid')\n",
    "plt.show()\n"
   ]
  },
  {
   "cell_type": "code",
   "execution_count": 27,
   "metadata": {
    "collapsed": false
   },
   "outputs": [
    {
     "name": "stdout",
     "output_type": "stream",
     "text": [
      "The minimum score was 0 and the maximum score was 72.\n"
     ]
    }
   ],
   "source": [
    "print(\"The minimum score was {} and the maximum score was {}.\".format(min(base_data), max(base_data)))"
   ]
  },
  {
   "cell_type": "code",
   "execution_count": 28,
   "metadata": {
    "collapsed": false
   },
   "outputs": [
    {
     "data": {
      "image/png": "[encoded data removed]",
      "text/plain": [
       "<matplotlib.figure.Figure at 0x10e20ce10>"
      ]
     },
     "metadata": {},
     "output_type": "display_data"
    }
   ],
   "source": [
    "plt.hist(aggressive_data, bins = 70)\n",
    "plt.title(\"Results of 1000 games where Franz rolls three times per turn\")\n",
    "plt.xlabel(\"The mean of Franz' final scores is {}.\".format(st.mean(aggressive_data)))\n",
    "plt.vlines(st.mean(aggressive_data), ymin = 0, ymax = 600, color ='red', linestyle='solid')\n",
    "plt.show()"
   ]
  },
  {
   "cell_type": "code",
   "execution_count": 29,
   "metadata": {
    "collapsed": false
   },
   "outputs": [
    {
     "name": "stdout",
     "output_type": "stream",
     "text": [
      "The minimum score was 0 and the maximum score was 128.\n"
     ]
    }
   ],
   "source": [
    "print(\"The minimum score was {} and the maximum score was {}.\".format(min(aggressive_data), max(aggressive_data)))"
   ]
  },
  {
   "cell_type": "code",
   "execution_count": 30,
   "metadata": {
    "collapsed": false
   },
   "outputs": [
    {
     "data": {
      "image/png": "[encoded data removed]",
      "text/plain": [
       "<matplotlib.figure.Figure at 0x10e371748>"
      ]
     },
     "metadata": {},
     "output_type": "display_data"
    }
   ],
   "source": [
    "plt.hist(cautious_data, bins=50)\n",
    "plt.title(\"Results of 1000 games where Yortuk rolls two times per turn\")\n",
    "plt.xlabel(\"The mean of Yortuk's final scores is {}.\".format(st.mean(cautious_data)))\n",
    "plt.vlines(st.mean(cautious_data), ymin = 0, ymax = 600, color ='red', linestyle='solid')\n",
    "plt.show()"
   ]
  },
  {
   "cell_type": "code",
   "execution_count": 31,
   "metadata": {
    "collapsed": false
   },
   "outputs": [
    {
     "name": "stdout",
     "output_type": "stream",
     "text": [
      "The minimum score was 0 and the maximum score was 101.\n"
     ]
    }
   ],
   "source": [
    "print(\"The minimum score was {} and the maximum score was {}.\".format(min(cautious_data), max(cautious_data)))"
   ]
  },
  {
   "cell_type": "code",
   "execution_count": 32,
   "metadata": {
    "collapsed": false
   },
   "outputs": [
    {
     "data": {
      "image/png": "[encoded data removed]",
      "text/plain": [
       "<matplotlib.figure.Figure at 0x10e0adeb8>"
      ]
     },
     "metadata": {},
     "output_type": "display_data"
    }
   ],
   "source": [
    "plt.hist(no_holds_data, bins=30)\n",
    "plt.title(\"Results of 1000 games where Georg rolls twenty times per turn\")\n",
    "plt.xlabel(\"The mean of Georg final scores is {}.\".format(st.mean(no_holds_data)))\n",
    "plt.vlines(st.mean(no_holds_data), ymin = 0, ymax = 9000, color ='red', linestyle='solid')\n",
    "plt.show()"
   ]
  },
  {
   "cell_type": "code",
   "execution_count": 33,
   "metadata": {
    "collapsed": false
   },
   "outputs": [
    {
     "name": "stdout",
     "output_type": "stream",
     "text": [
      "The minimum score was 0 and the maximum score was 282.\n"
     ]
    }
   ],
   "source": [
    "print(\"The minimum score was {} and the maximum score was {}.\".format(min(no_holds_data), max(no_holds_data)))"
   ]
  },
  {
   "cell_type": "markdown",
   "metadata": {},
   "source": [
    "# Conclusion\n",
    "When rolling too many times, the score is much lower, but of the players rolling 2-3 times, the mean scores were higher."
   ]
  },
  {
   "cell_type": "code",
   "execution_count": null,
   "metadata": {
    "collapsed": true
   },
   "outputs": [],
   "source": []
  }
 ],
 "metadata": {
  "kernelspec": {
   "display_name": "Python 3",
   "language": "python",
   "name": "python3"
  },
  "language_info": {
   "codemirror_mode": {
    "name": "ipython",
    "version": 3
   },
   "file_extension": ".py",
   "mimetype": "text/x-python",
   "name": "python",
   "nbconvert_exporter": "python",
   "pygments_lexer": "ipython3",
   "version": "3.4.3"
  }
 },
 "nbformat": 4,
 "nbformat_minor": 0
}
